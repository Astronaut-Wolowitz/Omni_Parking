{
 "cells": [
  {
   "cell_type": "code",
   "execution_count": 2,
   "metadata": {},
   "outputs": [],
   "source": [
    "def get_acc(cascade_src):\n",
    "    # video_src = 'dataset/video2.avi'\n",
    "    Total = [157,156,156,154,156] #manually determined by counting\n",
    "    car_cascade = cv2.CascadeClassifier(cascade_src)\n",
    "    counter = 1\n",
    "    index =0\n",
    "    list_of_indexes = []\n",
    "    while True:\n",
    "        # ret, img = cap.read()\n",
    "        # if (type(img) == type(None)):\n",
    "        #     break\n",
    "\n",
    "        if counter<6:\n",
    "            img_init = cv2.imread('Khare_testFrame_0%d.jpg' % counter)\n",
    "            img = cv2.resize(img_init, None, fx=0.6, fy=0.6)\n",
    "        else:\n",
    "            break\n",
    "        gray = cv2.cvtColor(img, cv2.COLOR_BGR2GRAY)\n",
    "        cars = car_cascade.detectMultiScale(gray, 1.1, 1)\n",
    "        rects = np.array([[x, y, x + w, y + h] for (x, y, w, h) in cars])\n",
    "        pick = non_max_suppression(rects, probs=None, overlapThresh=0.65)\n",
    "\n",
    "        # draw the final bounding boxes\n",
    "        for (xA, yA, xB, yB) in pick:\n",
    "            cv2.rectangle(img, (xA, yA), (xB, yB), (0, 255, 0), 2)\n",
    "        # for (x, y, w, h) in cars:\n",
    "        #     cv2.rectangle(img, (x, y), (x + w, y + h), (0 , 0, 255), 2) #bgr\n",
    "            index+=1\n",
    "        # cv2.imshow('video2', img)\n",
    "        # cv2.imshow('image', img)\n",
    "        counter+=1\n",
    "        k = cv2.waitKey(0) # 32\n",
    "        saved = index\n",
    "        print(\"%d vehicles found\" %saved)\n",
    "        list_of_indexes.append(saved/Total[counter-2])\n",
    "        index = 0\n",
    "        # input(\"press \")\n",
    "        if k== 32:\n",
    "            continue\n",
    "        # press escape key to exit\n",
    "        if cv2.waitKey(33) == 27:\n",
    "            break\n",
    "        # os.system(\"pause\")\n",
    "    sum =0\n",
    "    for i in list_of_indexes:\n",
    "        sum = sum+ i\n",
    "\n",
    "    percentage = (sum/len(list_of_indexes))*100\n",
    "    print(\"Accuracy after evaluating 5 frames and assuming correct identification: \", percentage)\n",
    "    cv2.destroyAllWindows()\n",
    "    return percentage"
   ]
  }
 ],
 "metadata": {
  "kernelspec": {
   "display_name": "Python 3",
   "language": "python",
   "name": "python3"
  },
  "language_info": {
   "codemirror_mode": {
    "name": "ipython",
    "version": 3
   },
   "file_extension": ".py",
   "mimetype": "text/x-python",
   "name": "python",
   "nbconvert_exporter": "python",
   "pygments_lexer": "ipython3",
   "version": "3.6.4"
  }
 },
 "nbformat": 4,
 "nbformat_minor": 2
}
